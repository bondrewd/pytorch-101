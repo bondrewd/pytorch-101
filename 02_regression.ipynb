{
 "cells": [
  {
   "cell_type": "markdown",
   "metadata": {},
   "source": [
    "## Regression"
   ]
  },
  {
   "cell_type": "markdown",
   "metadata": {},
   "source": [
    "Load libraries"
   ]
  },
  {
   "cell_type": "code",
   "execution_count": 1,
   "metadata": {},
   "outputs": [],
   "source": [
    "import torch\n",
    "import random\n",
    "import numpy as np\n",
    "from sklearn import datasets\n",
    "from sklearn import model_selection\n",
    "from typing import Type"
   ]
  },
  {
   "cell_type": "markdown",
   "metadata": {},
   "source": [
    "Set up session for reproducibility"
   ]
  },
  {
   "cell_type": "code",
   "execution_count": 2,
   "metadata": {},
   "outputs": [],
   "source": [
    "# Python\n",
    "random.seed(0)\n",
    "# Numpy\n",
    "np.random.seed(1)\n",
    "# PyTorch\n",
    "torch.manual_seed(2)\n",
    "# Ensure that all operations are deterministic on GPU (if used)\n",
    "torch.backends.cudnn.determinstic = True\n",
    "torch.backends.cudnn.benchmark = False\n",
    "# Avoid nondeterministic algorithms\n",
    "torch.use_deterministic_algorithms(True)"
   ]
  },
  {
   "cell_type": "markdown",
   "metadata": {},
   "source": [
    "Create a dataset"
   ]
  },
  {
   "cell_type": "code",
   "execution_count": 3,
   "metadata": {},
   "outputs": [],
   "source": [
    "x, y = datasets.make_regression(\n",
    "    n_samples=1000,\n",
    "    n_features=10,\n",
    "    n_informative=10,\n",
    "    n_targets=1,\n",
    "    bias=0.0,\n",
    "    random_state=3\n",
    ")"
   ]
  },
  {
   "cell_type": "markdown",
   "metadata": {},
   "source": [
    "Split the data intro two groups: train and test"
   ]
  },
  {
   "cell_type": "code",
   "execution_count": 4,
   "metadata": {},
   "outputs": [
    {
     "name": "stdout",
     "output_type": "stream",
     "text": [
      "x_train shape: (800, 10)\n",
      "y_train shape: (800,)\n",
      "--------\n",
      "x_test shape: (200, 10)\n",
      "y_test shape: (200,)\n"
     ]
    }
   ],
   "source": [
    "x_train, x_test, y_train, y_test = model_selection.train_test_split(x, y, test_size=0.2, random_state=1)\n",
    "print(f\"x_train shape: {x_train.shape}\")\n",
    "print(f\"y_train shape: {y_train.shape}\")\n",
    "print(f\"--------\")\n",
    "print(f\"x_test shape: {x_test.shape}\")\n",
    "print(f\"y_test shape: {y_test.shape}\")"
   ]
  },
  {
   "cell_type": "markdown",
   "metadata": {},
   "source": [
    "Transform arrays to tensors"
   ]
  },
  {
   "cell_type": "code",
   "execution_count": 5,
   "metadata": {},
   "outputs": [],
   "source": [
    "x_train_tensor = torch.tensor(x_train, dtype=torch.float32)\n",
    "y_train_tensor = torch.tensor(y_train, dtype=torch.float32).reshape(-1, 1)\n",
    "\n",
    "x_test_tensor = torch.tensor(x_test, dtype=torch.float32)\n",
    "y_test_tensor = torch.tensor(y_test, dtype=torch.float32).reshape(-1, 1)"
   ]
  },
  {
   "cell_type": "markdown",
   "metadata": {},
   "source": [
    "Build PyTorch datasets and dataloaders"
   ]
  },
  {
   "cell_type": "code",
   "execution_count": 6,
   "metadata": {},
   "outputs": [],
   "source": [
    "dataset_train = torch.utils.data.TensorDataset(x_train_tensor, y_train_tensor)\n",
    "dataset_test  = torch.utils.data.TensorDataset(x_test_tensor,  y_test_tensor)\n",
    "\n",
    "batch_size = 100\n",
    "dataloader_train = torch.utils.data.DataLoader(dataset=dataset_train, batch_size=batch_size, shuffle=True)\n",
    "dataloader_test  = torch.utils.data.DataLoader(dataset=dataset_test,  batch_size=batch_size, shuffle=True)"
   ]
  },
  {
   "cell_type": "markdown",
   "metadata": {},
   "source": [
    "Define the neural network architecture"
   ]
  },
  {
   "cell_type": "code",
   "execution_count": 7,
   "metadata": {},
   "outputs": [],
   "source": [
    "class MultilayerPerceptron(torch.nn.Module):\n",
    "    def __init__(self, input_size: int, layers: list[tuple[int, torch.nn.Module]]) -> None:\n",
    "        super().__init__()\n",
    "        # Assert layers is not empty\n",
    "        assert len(layers) > 0, \"layers list cannot be empty\"\n",
    "        # Initialize layers\n",
    "        self.layers = torch.nn.ModuleList()\n",
    "        # Build layers\n",
    "        for output_size, activation in layers:\n",
    "            self.layers.append(torch.nn.Linear(input_size, output_size))\n",
    "            input_size = output_size\n",
    "            if activation is not None:\n",
    "                assert isinstance(activation, torch.nn.Module), \"activation needs to be a subclass of torch.nn.Module\"\n",
    "                self.layers.append(activation)\n",
    "\n",
    "    def forward(self, x) -> torch.Tensor:\n",
    "        for layer in self.layers:\n",
    "            x = layer(x)\n",
    "        return x"
   ]
  },
  {
   "cell_type": "markdown",
   "metadata": {},
   "source": [
    "Build a neural network model"
   ]
  },
  {
   "cell_type": "code",
   "execution_count": 8,
   "metadata": {},
   "outputs": [],
   "source": [
    "model = MultilayerPerceptron(\n",
    "    input_size=10,\n",
    "    layers=[\n",
    "        (12, torch.nn.ReLU()),\n",
    "        (10, torch.nn.ReLU()),\n",
    "        ( 5, torch.nn.ReLU()),\n",
    "        ( 1, None)\n",
    "    ],\n",
    ")"
   ]
  },
  {
   "cell_type": "markdown",
   "metadata": {},
   "source": [
    "Define loss functions for training the neural network"
   ]
  },
  {
   "cell_type": "code",
   "execution_count": 9,
   "metadata": {},
   "outputs": [
    {
     "data": {
      "text/plain": [
       "MSELoss()"
      ]
     },
     "execution_count": 9,
     "metadata": {},
     "output_type": "execute_result"
    }
   ],
   "source": [
    "criterion = torch.nn.MSELoss()\n",
    "criterion"
   ]
  },
  {
   "cell_type": "markdown",
   "metadata": {},
   "source": [
    "Define the optimizer for training the neural network"
   ]
  },
  {
   "cell_type": "code",
   "execution_count": 10,
   "metadata": {},
   "outputs": [
    {
     "data": {
      "text/plain": [
       "Adam (\n",
       "Parameter Group 0\n",
       "    amsgrad: False\n",
       "    betas: (0.9, 0.999)\n",
       "    capturable: False\n",
       "    differentiable: False\n",
       "    eps: 1e-08\n",
       "    foreach: None\n",
       "    fused: None\n",
       "    lr: 0.001\n",
       "    maximize: False\n",
       "    weight_decay: 0\n",
       ")"
      ]
     },
     "execution_count": 10,
     "metadata": {},
     "output_type": "execute_result"
    }
   ],
   "source": [
    "learning_rate = 0.001\n",
    "optimizer = torch.optim.Adam(model.parameters(), lr=learning_rate)\n",
    "optimizer"
   ]
  },
  {
   "cell_type": "markdown",
   "metadata": {},
   "source": [
    "Define function for training the model"
   ]
  },
  {
   "cell_type": "code",
   "execution_count": 11,
   "metadata": {},
   "outputs": [],
   "source": [
    "ModelT      = Type[torch.nn.Module]\n",
    "CriterionT  = Type[torch.nn.modules.loss._Loss]\n",
    "OptimizerT  = Type[torch.optim.Optimizer]\n",
    "DataLoaderT = Type[torch.utils.data.DataLoader]\n",
    "\n",
    "def train(model: ModelT, criterion: CriterionT, optimizer: OptimizerT, dataloader: DataLoaderT, num_epochs: int, log_freq: int, log_verbose: bool = False) -> list[float]:\n",
    "    loss_log = []\n",
    "    for epoch in range(num_epochs):\n",
    "        # Initialize loss accumulator\n",
    "        total_loss = 0.0\n",
    "        # Train model\n",
    "        for x_batch, y_batch in dataloader:\n",
    "            # Forward pass\n",
    "            y_pred = model(x_batch)\n",
    "            loss = criterion(y_pred, y_batch)\n",
    "\n",
    "            # Backward pass and optimization\n",
    "            optimizer.zero_grad()\n",
    "            loss.backward()\n",
    "            optimizer.step()\n",
    "\n",
    "            # Store loss\n",
    "            total_loss += loss\n",
    "        \n",
    "        # Log loss\n",
    "        if (epoch + 1) % log_freq == 0:\n",
    "            loss_log.append(total_loss)\n",
    "            if log_verbose:\n",
    "                print(f\"Epoch [{epoch+1}/{num_epochs}] | Loss: {total_loss}\")\n",
    "\n",
    "    return loss_log\n"
   ]
  },
  {
   "cell_type": "markdown",
   "metadata": {},
   "source": [
    "Train model"
   ]
  },
  {
   "cell_type": "code",
   "execution_count": 12,
   "metadata": {},
   "outputs": [
    {
     "name": "stdout",
     "output_type": "stream",
     "text": [
      "Epoch [100/1000] | Loss: 4016.767822265625\n",
      "Epoch [200/1000] | Loss: 1023.3453979492188\n",
      "Epoch [300/1000] | Loss: 294.7855529785156\n",
      "Epoch [400/1000] | Loss: 99.35380554199219\n",
      "Epoch [500/1000] | Loss: 44.753360748291016\n",
      "Epoch [600/1000] | Loss: 19.249340057373047\n",
      "Epoch [700/1000] | Loss: 8.172185897827148\n",
      "Epoch [800/1000] | Loss: 2.9901890754699707\n",
      "Epoch [900/1000] | Loss: 0.9360741376876831\n",
      "Epoch [1000/1000] | Loss: 0.28816068172454834\n"
     ]
    }
   ],
   "source": [
    "loss_log = train(\n",
    "    model=model,\n",
    "    criterion=criterion,\n",
    "    optimizer=optimizer,\n",
    "    dataloader=dataloader_train,\n",
    "    num_epochs=1000,\n",
    "    log_freq=100,\n",
    "    log_verbose=True\n",
    ")"
   ]
  },
  {
   "cell_type": "markdown",
   "metadata": {},
   "source": [
    "Define function for testing the model"
   ]
  },
  {
   "cell_type": "code",
   "execution_count": 13,
   "metadata": {},
   "outputs": [],
   "source": [
    "def test(model: ModelT, criterion: CriterionT, dataloader: DataLoaderT) -> float:\n",
    "    model.eval()\n",
    "    total_loss = 0.0\n",
    "    with torch.no_grad():\n",
    "        for x_batch, y_batch in dataloader:\n",
    "            # Evaluate the model\n",
    "            y_pred = model(x_batch)\n",
    "            loss = criterion(y_pred, y_batch)\n",
    "            total_loss += loss\n",
    "\n",
    "    return total_loss"
   ]
  },
  {
   "cell_type": "markdown",
   "metadata": {},
   "source": [
    "Test the trained model"
   ]
  },
  {
   "cell_type": "code",
   "execution_count": 14,
   "metadata": {},
   "outputs": [
    {
     "name": "stdout",
     "output_type": "stream",
     "text": [
      "Model accuracy on test set: 0.07015716284513474\n"
     ]
    }
   ],
   "source": [
    "print(f\"Model accuracy on test set: {test(model=model, criterion=criterion, dataloader=dataloader_test)}\")"
   ]
  }
 ],
 "metadata": {
  "kernelspec": {
   "display_name": "pytorch",
   "language": "python",
   "name": "python3"
  },
  "language_info": {
   "codemirror_mode": {
    "name": "ipython",
    "version": 3
   },
   "file_extension": ".py",
   "mimetype": "text/x-python",
   "name": "python",
   "nbconvert_exporter": "python",
   "pygments_lexer": "ipython3",
   "version": "3.11.7"
  }
 },
 "nbformat": 4,
 "nbformat_minor": 2
}
