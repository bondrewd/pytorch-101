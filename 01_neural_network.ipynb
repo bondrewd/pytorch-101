{
 "cells": [
  {
   "cell_type": "markdown",
   "metadata": {},
   "source": [
    "## Neural Networks"
   ]
  },
  {
   "cell_type": "markdown",
   "metadata": {},
   "source": [
    "Load libraries"
   ]
  },
  {
   "cell_type": "code",
   "execution_count": 1,
   "metadata": {},
   "outputs": [],
   "source": [
    "import torch\n",
    "import random\n",
    "import numpy as np\n",
    "from sklearn import datasets\n",
    "from sklearn import model_selection\n",
    "from typing import Type"
   ]
  },
  {
   "cell_type": "markdown",
   "metadata": {},
   "source": [
    "Set up session for reproducibility"
   ]
  },
  {
   "cell_type": "code",
   "execution_count": 2,
   "metadata": {},
   "outputs": [],
   "source": [
    "# Python\n",
    "random.seed(0)\n",
    "# Numpy\n",
    "np.random.seed(1)\n",
    "# PyTorch\n",
    "torch.manual_seed(2)\n",
    "# Ensure that all operations are deterministic on GPU (if used)\n",
    "torch.backends.cudnn.determinstic = True\n",
    "torch.backends.cudnn.benchmark = False\n",
    "# Avoid nondeterministic algorithms\n",
    "torch.use_deterministic_algorithms(True)"
   ]
  },
  {
   "cell_type": "markdown",
   "metadata": {},
   "source": [
    "Load the [Iris dataset](https://archive.ics.uci.edu/dataset/53/iris)."
   ]
  },
  {
   "cell_type": "code",
   "execution_count": 3,
   "metadata": {},
   "outputs": [],
   "source": [
    "dataset = datasets.load_iris()\n",
    "x = dataset.data\n",
    "y = dataset.target"
   ]
  },
  {
   "cell_type": "markdown",
   "metadata": {},
   "source": [
    "Describe the data"
   ]
  },
  {
   "cell_type": "code",
   "execution_count": 4,
   "metadata": {},
   "outputs": [
    {
     "name": "stdout",
     "output_type": "stream",
     "text": [
      "x shape: (150, 4)\n",
      "  - Feature 1: sepal length (cm)\n",
      "  - Feature 2: sepal width (cm)\n",
      "  - Feature 3: petal length (cm)\n",
      "  - Feature 4: petal width (cm)\n",
      "--------\n",
      "y shape: (150,)\n",
      "  - Label 1: class (three classes)\n"
     ]
    }
   ],
   "source": [
    "print(f\"x shape: {x.shape}\")\n",
    "print(f\"  - Feature 1: sepal length (cm)\")\n",
    "print(f\"  - Feature 2: sepal width (cm)\")\n",
    "print(f\"  - Feature 3: petal length (cm)\")\n",
    "print(f\"  - Feature 4: petal width (cm)\")\n",
    "print(f\"--------\")\n",
    "print(f\"y shape: {y.shape}\")\n",
    "print(f\"  - Label 1: class (three classes)\")"
   ]
  },
  {
   "cell_type": "markdown",
   "metadata": {},
   "source": [
    "Split the data intro two groups: train and test"
   ]
  },
  {
   "cell_type": "code",
   "execution_count": 5,
   "metadata": {},
   "outputs": [
    {
     "name": "stdout",
     "output_type": "stream",
     "text": [
      "x_train shape: (120, 4)\n",
      "y_train shape: (120,)\n",
      "--------\n",
      "x_test shape: (30, 4)\n",
      "y_test shape: (30,)\n"
     ]
    }
   ],
   "source": [
    "x_train, x_test, y_train, y_test = model_selection.train_test_split(x, y, test_size=0.2, random_state=1)\n",
    "print(f\"x_train shape: {x_train.shape}\")\n",
    "print(f\"y_train shape: {y_train.shape}\")\n",
    "print(f\"--------\")\n",
    "print(f\"x_test shape: {x_test.shape}\")\n",
    "print(f\"y_test shape: {y_test.shape}\")"
   ]
  },
  {
   "cell_type": "markdown",
   "metadata": {},
   "source": [
    "Transform arrays to tensors"
   ]
  },
  {
   "cell_type": "code",
   "execution_count": 6,
   "metadata": {},
   "outputs": [],
   "source": [
    "x_train_tensor = torch.tensor(x_train, dtype=torch.float32)\n",
    "y_train_tensor = torch.tensor(y_train, dtype=torch.int64)\n",
    "\n",
    "x_test_tensor = torch.tensor(x_test, dtype=torch.float32)\n",
    "y_test_tensor = torch.tensor(y_test, dtype=torch.int64)"
   ]
  },
  {
   "cell_type": "markdown",
   "metadata": {},
   "source": [
    "Build PyTorch datasets and dataloaders"
   ]
  },
  {
   "cell_type": "code",
   "execution_count": 7,
   "metadata": {},
   "outputs": [],
   "source": [
    "dataset_train = torch.utils.data.TensorDataset(x_train_tensor, y_train_tensor)\n",
    "dataset_test  = torch.utils.data.TensorDataset(x_test_tensor,  y_test_tensor)\n",
    "\n",
    "batch_size = 5\n",
    "dataloader_train = torch.utils.data.DataLoader(dataset=dataset_train, batch_size=batch_size, shuffle=True)\n",
    "dataloader_test  = torch.utils.data.DataLoader(dataset=dataset_test,  batch_size=batch_size, shuffle=True)"
   ]
  },
  {
   "cell_type": "markdown",
   "metadata": {},
   "source": [
    "Define the neural network architecture"
   ]
  },
  {
   "cell_type": "code",
   "execution_count": 8,
   "metadata": {},
   "outputs": [],
   "source": [
    "class NeuralNetwork(torch.nn.Module):\n",
    "    def __init__(self, input_size: int, hidden_size: int, output_size: int) -> None:\n",
    "        super().__init__()\n",
    "        self.layer1 = torch.nn.Linear(input_size,  hidden_size)\n",
    "        self.layer2 = torch.nn.Linear(hidden_size, output_size)\n",
    "        self.activation = torch.nn.ReLU()\n",
    "\n",
    "    def forward(self, x) -> torch.Tensor:\n",
    "        x = self.layer1(x)\n",
    "        x = self.activation(x)\n",
    "        x = self.layer2(x)\n",
    "        return x"
   ]
  },
  {
   "cell_type": "markdown",
   "metadata": {},
   "source": [
    "Build a neural network model"
   ]
  },
  {
   "cell_type": "code",
   "execution_count": 9,
   "metadata": {},
   "outputs": [],
   "source": [
    "input_size  = 4\n",
    "hidden_size = 6\n",
    "output_size = 3\n",
    "model = NeuralNetwork(\n",
    "    input_size=input_size,\n",
    "    hidden_size=hidden_size,\n",
    "    output_size=output_size\n",
    ")"
   ]
  },
  {
   "cell_type": "markdown",
   "metadata": {},
   "source": [
    "Define loss functions for training the neural network"
   ]
  },
  {
   "cell_type": "code",
   "execution_count": 10,
   "metadata": {},
   "outputs": [
    {
     "data": {
      "text/plain": [
       "CrossEntropyLoss()"
      ]
     },
     "execution_count": 10,
     "metadata": {},
     "output_type": "execute_result"
    }
   ],
   "source": [
    "criterion = torch.nn.CrossEntropyLoss()\n",
    "criterion"
   ]
  },
  {
   "cell_type": "markdown",
   "metadata": {},
   "source": [
    "Define the optimizer for training the neural network"
   ]
  },
  {
   "cell_type": "code",
   "execution_count": 11,
   "metadata": {},
   "outputs": [
    {
     "data": {
      "text/plain": [
       "Adam (\n",
       "Parameter Group 0\n",
       "    amsgrad: False\n",
       "    betas: (0.9, 0.999)\n",
       "    capturable: False\n",
       "    differentiable: False\n",
       "    eps: 1e-08\n",
       "    foreach: None\n",
       "    fused: None\n",
       "    lr: 0.0001\n",
       "    maximize: False\n",
       "    weight_decay: 0\n",
       ")"
      ]
     },
     "execution_count": 11,
     "metadata": {},
     "output_type": "execute_result"
    }
   ],
   "source": [
    "learning_rate = 0.0001\n",
    "optimizer = torch.optim.Adam(model.parameters(), lr=learning_rate)\n",
    "optimizer"
   ]
  },
  {
   "cell_type": "markdown",
   "metadata": {},
   "source": [
    "Define function for training the model"
   ]
  },
  {
   "cell_type": "code",
   "execution_count": 12,
   "metadata": {},
   "outputs": [],
   "source": [
    "ModelT      = Type[torch.nn.Module]\n",
    "CriterionT  = Type[torch.nn.modules.loss._Loss]\n",
    "OptimizerT  = Type[torch.optim.Optimizer]\n",
    "DataLoaderT = Type[torch.utils.data.DataLoader]\n",
    "\n",
    "def train(model: ModelT, criterion: CriterionT, optimizer: OptimizerT, dataloader: DataLoaderT, num_epochs: int, log_freq: int, log_verbose: bool = False) -> list[float]:\n",
    "    loss_log = []\n",
    "    for epoch in range(num_epochs):\n",
    "        # Initialize loss accumulator\n",
    "        loss_acc = 0.0\n",
    "        # Train model\n",
    "        for x_batch, y_batch in dataloader:\n",
    "            # Forward pass\n",
    "            y_pred = model(x_batch)\n",
    "            y_loss = criterion(y_pred, y_batch)\n",
    "\n",
    "            # Backward pass and optimization\n",
    "            optimizer.zero_grad()\n",
    "            y_loss.backward()\n",
    "            optimizer.step()\n",
    "\n",
    "            # Store loss\n",
    "            loss_acc += y_loss\n",
    "        \n",
    "        # Log loss\n",
    "        if (epoch + 1) % log_freq == 0:\n",
    "            loss_log.append(loss_acc)\n",
    "            if log_verbose:\n",
    "                print(f\"Epoch [{epoch+1}/{num_epochs}] | Loss: {loss_acc}\")\n",
    "\n",
    "    return loss_log\n"
   ]
  },
  {
   "cell_type": "markdown",
   "metadata": {},
   "source": [
    "Train model"
   ]
  },
  {
   "cell_type": "code",
   "execution_count": 13,
   "metadata": {},
   "outputs": [
    {
     "name": "stdout",
     "output_type": "stream",
     "text": [
      "Epoch [100/1000] | Loss: 19.465103149414062\n",
      "Epoch [200/1000] | Loss: 14.550691604614258\n",
      "Epoch [300/1000] | Loss: 11.619840621948242\n",
      "Epoch [400/1000] | Loss: 10.129158020019531\n",
      "Epoch [500/1000] | Loss: 8.988484382629395\n",
      "Epoch [600/1000] | Loss: 7.906054973602295\n",
      "Epoch [700/1000] | Loss: 6.851046085357666\n",
      "Epoch [800/1000] | Loss: 5.927214622497559\n",
      "Epoch [900/1000] | Loss: 5.141199588775635\n",
      "Epoch [1000/1000] | Loss: 4.499476909637451\n"
     ]
    }
   ],
   "source": [
    "loss_log = train(\n",
    "    model=model,\n",
    "    criterion=criterion,\n",
    "    optimizer=optimizer,\n",
    "    dataloader=dataloader_train,\n",
    "    num_epochs=1000,\n",
    "    log_freq=100,\n",
    "    log_verbose=True\n",
    ")"
   ]
  },
  {
   "cell_type": "markdown",
   "metadata": {},
   "source": [
    "Define function for testing the model"
   ]
  },
  {
   "cell_type": "code",
   "execution_count": 14,
   "metadata": {},
   "outputs": [],
   "source": [
    "def test(model: ModelT, dataloader: DataLoaderT) -> float:\n",
    "    model.eval()\n",
    "    correct = 0\n",
    "    total = 0\n",
    "    with torch.no_grad():\n",
    "        for x_batch, y_batch in dataloader:\n",
    "            # Evaluate the model\n",
    "            y_pred = model(x_batch)\n",
    "            # Get indices of predicted classes\n",
    "            _, predicted = torch.max(y_pred, -1)\n",
    "            # Calculate number of predictions\n",
    "            correct += (predicted == y_batch).sum().item()\n",
    "            # Update accumulator for number of evaluations\n",
    "            total += y_batch.size(0)\n",
    "\n",
    "    # Calculate accuracy\n",
    "    accuracy = correct / total\n",
    "\n",
    "    return accuracy"
   ]
  },
  {
   "cell_type": "markdown",
   "metadata": {},
   "source": [
    "Test the trained model"
   ]
  },
  {
   "cell_type": "code",
   "execution_count": 15,
   "metadata": {},
   "outputs": [
    {
     "name": "stdout",
     "output_type": "stream",
     "text": [
      "Model accuracy on test set: 0.9666666666666667\n"
     ]
    }
   ],
   "source": [
    "print(f\"Model accuracy on test set: {test(model, dataloader_test)}\")"
   ]
  }
 ],
 "metadata": {
  "kernelspec": {
   "display_name": "pytorch",
   "language": "python",
   "name": "python3"
  },
  "language_info": {
   "codemirror_mode": {
    "name": "ipython",
    "version": 3
   },
   "file_extension": ".py",
   "mimetype": "text/x-python",
   "name": "python",
   "nbconvert_exporter": "python",
   "pygments_lexer": "ipython3",
   "version": "3.11.7"
  }
 },
 "nbformat": 4,
 "nbformat_minor": 2
}
